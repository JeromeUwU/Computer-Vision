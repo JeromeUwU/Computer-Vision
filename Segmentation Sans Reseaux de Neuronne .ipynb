{
 "cells": [
  {
   "cell_type": "code",
   "execution_count": 512,
   "id": "16852a23",
   "metadata": {},
   "outputs": [
    {
     "name": "stdout",
     "output_type": "stream",
     "text": [
      "The autoreload extension is already loaded. To reload it, use:\n",
      "  %reload_ext autoreload\n"
     ]
    }
   ],
   "source": [
    "from __future__ import division\n",
    "\n",
    "import math as math\n",
    "import numpy as np\n",
    "import scipy as scp\n",
    "import pylab as pyl\n",
    "from matplotlib import cm\n",
    "import matplotlib.pyplot as plt\n",
    "import scipy.io as sio\n",
    "from matplotlib.pyplot import imshow as imageplot\n",
    "from mpl_toolkits.mplot3d import Axes3D\n",
    "import matplotlib.image as mpimg\n",
    "import warnings\n",
    "warnings.filterwarnings('ignore')\n",
    "\n",
    "%matplotlib inline\n",
    "%load_ext autoreload\n",
    "%autoreload 2"
   ]
  },
  {
   "cell_type": "code",
   "execution_count": 679,
   "id": "5e446b9d",
   "metadata": {},
   "outputs": [],
   "source": [
    "def grad_x(img, adjoint):\n",
    "    sx , sy = np.shape(img)\n",
    "    diff_x = np.copy(img)\n",
    "    \n",
    "    if adjoint==0:\n",
    "        for x in range(sx):\n",
    "            if x==sx-1:\n",
    "                xnext=0\n",
    "            else:\n",
    "                xnext=x+1\n",
    "            for y in range(sy):\n",
    "                diff_x[x,y] = img[xnext,y]- img[x,y]\n",
    "    else:\n",
    "        for x in range(sx):\n",
    "            if x==0:\n",
    "                xprev=sx-1\n",
    "            else:\n",
    "                xprev=x-1\n",
    "            for y in range(sy):\n",
    "                diff_x[x,y] = img[xprev,y]- img[x,y]\n",
    "    \n",
    "    return diff_x\n",
    "    \n",
    "def grad_y(img, adjoint):\n",
    "    sx , sy = np.shape(img)\n",
    "    diff_y =  np.copy(img)\n",
    "\n",
    "    if adjoint==0:\n",
    "       \n",
    "        for y in range(sy):\n",
    "            if y==sy-1:\n",
    "                ynext=0\n",
    "            else:\n",
    "                ynext=y+1\n",
    "            for x in range(sx):\n",
    "                diff_y[x,y] = img[x,ynext]- img[x,y]\n",
    "    else:\n",
    "        for y in range(sy):\n",
    "            if y==0:\n",
    "                yprev=sy-1\n",
    "            else:\n",
    "                yprev=y-1\n",
    "            for x in range(sx):\n",
    "                diff_y[x,y] = img[x,yprev]- img[x,y]\n",
    "    \n",
    "    return diff_y\n",
    "\n",
    "def H(t,eps):\n",
    "    if t > eps:\n",
    "        return 1\n",
    "    if -eps <= t <= eps:\n",
    "        return (1/2)*(1 + t/(eps) + 1/(np.pi)*np.sin(np.pi*t/eps))\n",
    "    if -eps > t:\n",
    "        return 0\n",
    "    \n",
    "def grad_H(t,eps):\n",
    "    if t > eps:\n",
    "        return 0\n",
    "    if -eps <= t <= eps:\n",
    "        return 1/(2*eps) + 1/(2*eps)*np.cos(np.pi*t/eps)\n",
    "    if -eps > t:\n",
    "        return 0\n",
    "######################################################################    \n",
    "def in_img(phi,px):\n",
    "    if 0 <= px[0] <= phi.shape[0]-1 and 0 <= px[1] <= phi.shape[1]-1:\n",
    "        return True\n",
    "    else:\n",
    "        return False\n",
    "########################################################################\n",
    "def omega(phi):#fonction qui creer omega par phi \n",
    "    omg = []\n",
    "    for i in range (phi.shape[0]):\n",
    "        for j in range(phi.shape[1]):\n",
    "            if phi[i,j] >= 0:\n",
    "                omg.append([i,j])\n",
    "    return omg\n",
    "######################################################################\n",
    "def voisinage(px,phi):#fonction qui donne le voisinage d'un pixel\n",
    "    Nl = np.shape(phi)[0]\n",
    "    Nc = np.shape(phi)[1]\n",
    "    voisin = [[(px[0] + 1)%Nl, px[1]],\n",
    "              [px[0], (px[1] + 1)%Nc],\n",
    "              [(px[0] - 1)%Nl, px[1]],\n",
    "              [px[0], (px[1] - 1)%Nc],]\n",
    "    real_voisin = []\n",
    "    for v in voisin:\n",
    "        if in_img(phi,v):\n",
    "            real_voisin.append(v)\n",
    "            \n",
    "    return real_voisin\n",
    "########################################################################\n",
    "def dl(px1,px2): \n",
    "    if abs(px1[0] - px2[0]) + abs(px1[1] - px2[1]) == 1:\n",
    "        return 1\n",
    "    else:\n",
    "        return 0   \n",
    "####################################################################### \n",
    "def P(w,omg,phi,Lambda,eps): #P(Omega)\n",
    "    e = 0\n",
    "    tmpx = grad_x(w, 0)\n",
    "    tmpy = grad_y(w, 0)\n",
    "    for [m,n] in omg:\n",
    "        voisin = voisinage([m,n],phi)\n",
    "        for v in voisin:\n",
    "            A1 = H(phi[m,n],eps)\n",
    "            A2 = (1-H(phi[v[0],v[1]],eps))\n",
    "            tmpx[m,n] = tmpx[m,n]*A1*A2\n",
    "            tmpy[m,n] = tmpy[m,n]*A1*A2\n",
    "            e += dl([m, n],v)*A1*A2\n",
    "    \n",
    "    dx = np.linalg.norm( tmpx, ord='fro') \n",
    "    dy = np.linalg.norm( tmpy, ord='fro')\n",
    "    return e - Lambda*(dx*dx + dy*dy)\n",
    "########################################################################\n",
    "def E(w,Lambda):\n",
    "    gx = np.linalg.norm( grad_x(w,0), ord='fro')\n",
    "    gy = np.linalg.norm( grad_y(w,0), ord='fro')\n",
    "    \n",
    "    return Lambda*(gx*gx + gy*gy)\n",
    "##############################################################################\n",
    "def Mf_shah(w,u,phi,omg,Lambda,mu,eps):\n",
    "    return (P(w,omg,phi,Lambda,eps)) + E(w,Lambda) + mu*np.linalg.norm(w-u)**2\n",
    "##############################################################################\n",
    "def grad_phi(w,phi,omg,Lambda,eps):\n",
    "    grad_E_3 = np.zeros(np.shape(phi))\n",
    "    \n",
    "    tmpx = grad_x(w, 0)\n",
    "    tmpy = grad_y(w, 0)\n",
    "    for [i,j] in omg:\n",
    "        for v in voisinage([i,j],phi):\n",
    "            A1 = grad_H(phi[i, j], eps)\n",
    "            A2 = (1 - 2 * H(phi[v[0],v[1]], eps))\n",
    "            tmpx[i,j] = tmpx[i,j]*A1*A2\n",
    "            tmpy[i,j] = tmpy[i,j]*A1*A2\n",
    "            grad_E_3[i, j] +=dl([i, j],v)*A1*A2\n",
    "                \n",
    "    \n",
    "    gx = np.linalg.norm( tmpx, ord='fro')\n",
    "    gy = np.linalg.norm( tmpy, ord='fro')\n",
    "            \n",
    "    return grad_E_3  - Lambda*(gx*gx + gy*gy)\n",
    "#######################################################################################################\n",
    "def grad_MS(w,u,phi,omg,Lambda,mu,eps):  \n",
    "    tmpx = grad_x(w, 0) \n",
    "    tmpx2 = grad_x(w, 0) \n",
    "    tmpy = grad_y(w, 0)\n",
    "    tmpy2 = grad_y(w, 0) \n",
    "    for [i,j] in omg:\n",
    "        for v in voisinage([i,j],phi):\n",
    "            A1 = H(phi[i,j],eps)\n",
    "            A2 = (1-H(phi[v[0],v[1]],eps))\n",
    "            tmpx2[i,j] = tmpx2[i,j]*A1*A2\n",
    "            tmpy2[i,j] = tmpy2[i,j]*A1*A2\n",
    "            \n",
    "    \n",
    "    \n",
    "    tmpx3 = tmpx - tmpx2\n",
    "    tmpy3 = tmpy - tmpy2\n",
    "    tmpx1 = grad_x(tmpx3, 1)\n",
    "    tmpy1 = grad_y(tmpy, 1)\n",
    "    grad1 = 2 * Lambda*(tmpx1 + tmpy1)\n",
    "\n",
    "    return    grad1 + mu * 2 * (w - u)\n",
    "#######################################################################################################                     \n",
    "def segmentation(u,Lambda,mu,eps,itermax):\n",
    "    pas_w = 0.05\n",
    "    pas_phi = 0.05\n",
    "    phi = np.copy(u)\n",
    "    #phi = np.random.uniform(-1, 1, u.shape)\n",
    "    omega_ = omega(phi)\n",
    "    norm_grad_phi = []\n",
    "    norm_grad_w = []\n",
    "    MS = []\n",
    "    w = np.copy(u)\n",
    "    for it in range (itermax) :\n",
    "        grad_w_= grad_MS(w, u,phi,omega_, Lambda, mu,eps)\n",
    "        \n",
    "        w = w - (pas_w * grad_w_)\n",
    "        \n",
    "        grad_phi_ = grad_phi(w, phi,omega_,Lambda, eps)\n",
    "        \n",
    "        phi = phi - (pas_phi * grad_phi_)\n",
    "        \n",
    "    \n",
    "        omega_ = omega(phi)\n",
    "        f = abs(Mf_shah(w,u,phi,omega_,Lambda,mu,eps))\n",
    "        MS.append(f)\n",
    "        print( 'iter = ', it , 'fonction = ', abs(Mf_shah(w,u,phi,omega_,Lambda,mu,eps)) ,\\\n",
    "              'norm_grad_w = ',np.linalg.norm(grad_w_),'norm_grad_phi = ', np.linalg.norm(grad_phi_))\n",
    "    return w,phi,omega_,MS"
   ]
  },
  {
   "cell_type": "code",
   "execution_count": 680,
   "id": "886af038",
   "metadata": {},
   "outputs": [],
   "source": [
    "img1 = 255 * mpimg.imread(\"image test1.png\")\n",
    "img3 = 255 * mpimg.imread(\"image test3.png\")\n",
    "img4 = 255 * mpimg.imread(\"image test4.png\")\n",
    "u1=img1[:,:,0]\n",
    "u3=img3[:,:,0]\n",
    "u4=img4[:,:,0]\n",
    "#u1 + np.random.uniform(-10, 10, u1.shape)\n",
    "#u2 + np.random.uniform(-10, 10, u2.shape)\n",
    "#u3 + np.random.uniform(-10, 10, u3.shape)\n"
   ]
  },
  {
   "cell_type": "code",
   "execution_count": 681,
   "id": "fad8adf3",
   "metadata": {},
   "outputs": [
    {
     "name": "stdout",
     "output_type": "stream",
     "text": [
      "iter =  0 fonction =  9326976.401634222 norm_grad_w =  10890.62 norm_grad_phi =  153.62291495737216\n",
      "iter =  1 fonction =  6912434.138924882 norm_grad_w =  7500.9473 norm_grad_phi =  148.32396974191326\n",
      "iter =  2 fonction =  5613361.003161289 norm_grad_w =  5442.9663 norm_grad_phi =  142.828568570857\n",
      "iter =  3 fonction =  4841157.35912893 norm_grad_w =  4152.9717 norm_grad_phi =  137.11309200802089\n",
      "iter =  4 fonction =  4338949.88747306 norm_grad_w =  3318.4902 norm_grad_phi =  131.14877048604\n"
     ]
    }
   ],
   "source": [
    "Lambda = 1\n",
    "mu = 0.1\n",
    "eps = 0.1\n",
    "itermax = 5\n",
    "#w1,phi1,omega1,fonction1 = segmentation(u1,Lambda,mu,eps,itermax)\n",
    "#w2,phi2,omega2,fonction2 = segmentation(u2,Lambda,mu,eps,itermax)\n",
    "#w3,phi3,omega3,fonction3 = segmentation(u3,Lambda,mu,eps,itermax)\n",
    "w4,phi4,omega4,fonction4 = segmentation(u4,Lambda,mu,eps,itermax)"
   ]
  },
  {
   "cell_type": "code",
   "execution_count": 682,
   "id": "78dc3b4b",
   "metadata": {},
   "outputs": [
    {
     "data": {
      "image/png": "[encoded data removed]",
      "text/plain": [
       "<Figure size 720x720 with 1 Axes>"
      ]
     },
     "metadata": {
      "needs_background": "light"
     },
     "output_type": "display_data"
    }
   ],
   "source": [
    "plt.figure(figsize = (10,10))\n",
    "#plt.imshow(w1,cmap='gray')\n",
    "#plt.imshow(w2,cmap='gray')\n",
    "#plt.imshow(w3,cmap='gray')\n",
    "plt.imshow(w4,cmap='gray')\n",
    "plt.show()"
   ]
  },
  {
   "cell_type": "code",
   "execution_count": 683,
   "id": "07835e13",
   "metadata": {},
   "outputs": [],
   "source": [
    "def plot_s(phi,omega,fonction):\n",
    "\n",
    "        for i in range(phi.shape[0]):\n",
    "            for j in range(phi.shape[1]):\n",
    "                if phi[i, j] > 0:\n",
    "                    phi[i, j] = 255\n",
    "                else:\n",
    "                    phi[i, j] = 0\n",
    "                    \n",
    "        plt.imshow(phi)\n",
    "        plt.title(\"omega\")\n",
    "        plt.show()\n",
    "        \n",
    "        plt.plot(fonction)\n",
    "        plt.title(\"Mumford Shah\")\n",
    "        plt.show()"
   ]
  },
  {
   "cell_type": "code",
   "execution_count": 684,
   "id": "8f712e11",
   "metadata": {},
   "outputs": [
    {
     "data": {
      "image/png": "[encoded data removed]",
      "text/plain": [
       "<Figure size 432x288 with 1 Axes>"
      ]
     },
     "metadata": {
      "needs_background": "light"
     },
     "output_type": "display_data"
    },
    {
     "data": {
      "image/png": "[encoded data removed]",
      "text/plain": [
       "<Figure size 432x288 with 1 Axes>"
      ]
     },
     "metadata": {
      "needs_background": "light"
     },
     "output_type": "display_data"
    }
   ],
   "source": [
    "#plot_s(phi1,omega1,fonction1)\n",
    "#plot_s(phi2,omega2,fonction2)\n",
    "#plot_s(phi3,omega3,fonction3)\n",
    "plot_s(phi4,omega4,fonction4)"
   ]
  },
  {
   "cell_type": "code",
   "execution_count": 685,
   "id": "6b95c33f",
   "metadata": {},
   "outputs": [
    {
     "name": "stdout",
     "output_type": "stream",
     "text": [
      "[[255. 255. 255. ... 255. 255. 255.]\n",
      " [255. 255. 255. ... 255. 255. 255.]\n",
      " [255. 255. 255. ... 255. 255. 255.]\n",
      " ...\n",
      " [255. 255. 255. ... 255. 255. 255.]\n",
      " [255. 255. 255. ... 255. 255. 255.]\n",
      " [255. 255. 255. ... 255. 255. 255.]]\n"
     ]
    }
   ],
   "source": [
    "print(phi4)"
   ]
  },
  {
   "cell_type": "code",
   "execution_count": null,
   "id": "019efbb4",
   "metadata": {},
   "outputs": [],
   "source": []
  }
 ],
 "metadata": {
  "kernelspec": {
   "display_name": "Python 3 (ipykernel)",
   "language": "python",
   "name": "python3"
  },
  "language_info": {
   "codemirror_mode": {
    "name": "ipython",
    "version": 3
   },
   "file_extension": ".py",
   "mimetype": "text/x-python",
   "name": "python",
   "nbconvert_exporter": "python",
   "pygments_lexer": "ipython3",
   "version": "3.9.7"
  }
 },
 "nbformat": 4,
 "nbformat_minor": 5
}
